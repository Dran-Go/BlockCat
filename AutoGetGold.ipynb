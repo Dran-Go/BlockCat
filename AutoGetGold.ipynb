{
 "cells": [
  {
   "cell_type": "code",
   "execution_count": null,
   "metadata": {
    "collapsed": true
   },
   "outputs": [],
   "source": [
    "import time  \n",
    "import requests\n",
    "import json\n",
    "import re\n",
    "import urllib.request as request\n",
    "from hashlib import md5"
   ]
  },
  {
   "cell_type": "code",
   "execution_count": null,
   "metadata": {
    "collapsed": true
   },
   "outputs": [],
   "source": [
    "def writeLog(text):\n",
    "    fh = open('Log.txt', 'a')\n",
    "    fh.write(text+'\\n')\n",
    "    fh.close()"
   ]
  },
  {
   "cell_type": "code",
   "execution_count": null,
   "metadata": {
    "collapsed": true
   },
   "outputs": [],
   "source": [
    "# 若快打码，用于验证码识别\n",
    "class RClient(object):\n",
    "    def __init__(self, username, password, soft_id, soft_key):\n",
    "        self.username = username\n",
    "        self.password = md5(password.encode(\"utf8\")).hexdigest()\n",
    "        self.soft_id = soft_id\n",
    "        self.soft_key = soft_key\n",
    "        self.base_params = {\n",
    "            'username': self.username,\n",
    "            'password': self.password,\n",
    "            'softid': self.soft_id,\n",
    "            'softkey': self.soft_key,\n",
    "        }\n",
    "        self.headers = {\n",
    "            'Connection': 'Keep-Alive',\n",
    "            'Expect': '100-continue',\n",
    "            'User-Agent': 'ben',\n",
    "        }\n",
    "    def rk_create(self, im, im_type, timeout=60):\n",
    "        \"\"\"\n",
    "        im: 图片字节\n",
    "        im_type: 题目类型\n",
    "        \"\"\"\n",
    "        params = {\n",
    "            'typeid': im_type,\n",
    "            'timeout': timeout,\n",
    "        }\n",
    "        params.update(self.base_params)\n",
    "        files = {'image': ('a.jpg', im)}\n",
    "        r = requests.post('http://api.ruokuai.com/create.json', data=params, files=files, headers=self.headers)\n",
    "        return r.json()\n",
    "    def rk_report_error(self, im_id):\n",
    "        \"\"\"\n",
    "        im_id:报错题目的ID\n",
    "        \"\"\"\n",
    "        params = {\n",
    "            'id': im_id,\n",
    "        }\n",
    "        params.update(self.base_params)\n",
    "        r = requests.post('http://api.ruokuai.com/reporterror.json', data=params, headers=self.headers)\n",
    "        return r.json()"
   ]
  },
  {
   "cell_type": "code",
   "execution_count": null,
   "metadata": {
    "collapsed": true
   },
   "outputs": [],
   "source": [
    "# 获取登陆用图形验证码，并识别返回\n",
    "def getCode(session, rkAccount, rkPassword): \n",
    "    headers = {'User-Agent':'Mozilla/5.0 (Linux; U; Android 4.4.4; en-US; XT1022 Build/KXC21.5-40) AppleWebKit/534.30 (KHTML, like Gecko) Version/4.0 UCBrowser/10.7.0.636 U3/0.8.0 Mobile Safari/534.30;360appstore',\n",
    "               'Host': 'login.360.cn',\n",
    "               'Referer': 'http://i.360.cn/login/wap?src=mpw_blockcat&destUrl=http%3A%2F%2Fblockcat.360.cn%2F%23%2Fhome'}\n",
    "    Time = str(int(time.time() * 1000))\n",
    "    data = {'src': 'pcw_i360',\n",
    "            'o': 'sso',\n",
    "            'm': 'getCaptcha',\n",
    "            'app': 'i360',\n",
    "            'scene': 'login',\n",
    "            'callback': 'QiUserJsonP'+Time\n",
    "           }\n",
    "    codedata = session.get('http://login.360.cn/?src=pcw_i360&o=sso&m=getCaptcha&app=i360&scene=login&callback=QiUserJsonP', data=data, headers=headers).content.decode(encoding='UTF8')\n",
    "    codedatadict = json.loads(re.findall(r\"\\((.*)\\)\", codedata)[0])\n",
    "    codeToken = codedatadict.get('crypt_code')\n",
    "    codeImgUrl = codedatadict.get('img')\n",
    "    request.urlretrieve(codeImgUrl, './code.jpg')\n",
    "    rc = RClient(rkAccount, rkPassword, '106432', 'b46894ebdead4d4eb3c6703b58da5b24')\n",
    "    im = open('./code.jpg', 'rb').read()\n",
    "    codeResult = rc.rk_create(im, 3000)['Result']\n",
    "    print(\"识别验证码为 \"+codeResult)\n",
    "    writeLog(\"识别验证码为 \"+codeResult)\n",
    "    return codeToken, codeResult"
   ]
  },
  {
   "cell_type": "code",
   "execution_count": null,
   "metadata": {
    "collapsed": true
   },
   "outputs": [],
   "source": [
    "# 获取登陆用Token\n",
    "def getToken(session, account): \n",
    "    headers = {'User-Agent':'Mozilla/5.0 (Linux; U; Android 4.4.4; en-US; XT1022 Build/KXC21.5-40) AppleWebKit/534.30 (KHTML, like Gecko) Version/4.0 UCBrowser/10.7.0.636 U3/0.8.0 Mobile Safari/534.30;360appstore',\n",
    "               'Host': 'login.360.cn',\n",
    "               'Referer': 'http://i.360.cn/login/wap?src=mpw_blockcat&destUrl=http%3A%2F%2Fblockcat.360.cn%2F%23%2Fhome'}\n",
    "    Time = str(int(time.time() * 1000))\n",
    "    data = {'o': 'sso',\n",
    "            'm': 'getToken',\n",
    "            'func': 'QHPass.loginUtils.tokenCallback',\n",
    "            'userName': account,\n",
    "            'rand': '0.27856458922300353',\n",
    "            'quc_lang': '',\n",
    "            'callback': 'QiUserJsonP'+Time\n",
    "           }\n",
    "    tokendata = session.get('https://login.360.cn/?o=sso&m=getToken&func=QHPass.loginUtils.tokenCallback&userName='+account+'&rand=0.27856458922300353&quc_lang=&callback=QiUserJsonP'+Time, data=data, headers=headers).content.decode(encoding='UTF8')\n",
    "    tokendatadict = json.loads(re.findall(r\"\\((.*)\\)\", tokendata)[0])\n",
    "    token = tokendatadict.get('token')\n",
    "    return token"
   ]
  },
  {
   "cell_type": "code",
   "execution_count": null,
   "metadata": {
    "collapsed": true
   },
   "outputs": [],
   "source": [
    "# 登陆\n",
    "def login(session, account, password, codeToken, codeResult, token, count):\n",
    "    count+=1\n",
    "    headers = {'User-Agent':'Mozilla/5.0 (Linux; U; Android 4.4.4; en-US; XT1022 Build/KXC21.5-40) AppleWebKit/534.30 (KHTML, like Gecko) Version/4.0 UCBrowser/10.7.0.636 U3/0.8.0 Mobile Safari/534.30;360appstore',\n",
    "               'Host': 'login.360.cn',\n",
    "               'Referer': 'http://i.360.cn/login/wap?src=mpw_blockcat&destUrl=http%3A%2F%2Fblockcat.360.cn%2F%23%2Fhome'}\n",
    "    Time = str(int(time.time() * 1000))\n",
    "    HD5password  = md5(password.encode(\"utf8\")).hexdigest()\n",
    "    data = {'func': 'jQuery1124007363845979828043_1529113215170',\n",
    "            'userName': account, \n",
    "            'pwdmethod': '1',\n",
    "            'password': HD5password,\n",
    "            'isKeepAlive': '1',\n",
    "            'token': token,\n",
    "            'r': Time,\n",
    "            'captFlag': '1',\n",
    "            'captchaApp': 'i360',\n",
    "            'captcha': codeResult, \n",
    "            'o': 'sso',\n",
    "            'm': 'login',\n",
    "            'from': 'mpw_blockcat',\n",
    "            'rtype': 'data',\n",
    "            'requestScema': 'http',\n",
    "            'quc_lang': '',\n",
    "            'qucrypt_code': codeToken,\n",
    "            '_': Time,\n",
    "           }\n",
    "    logindata = session.get('https://login.360.cn/?func=jQuery1124007363845979828043_1529113215170&userName='+account+'&pwdmethod=1&password='+HD5password+'&isKeepAlive=1&token='+token+'&r='+Time+'&captFlag=1&captchaApp=i360&captcha='+codeResult+'&o=sso&m=login&from=mpw_blockcat&rtype=data&requestScema=http&quc_lang=&qucrypt_code='+codeToken+'&_='+Time, data=data, headers=headers).content.decode(encoding='UTF8')\n",
    "    logindatadict = json.loads(re.findall(r\"\\((.*)\\)\", logindata)[0])\n",
    "    if logindatadict.get('errno')==0:\n",
    "        print(\"登陆成功！\")\n",
    "        writeLog(\"登陆成功！\")\n",
    "        fh = open('登陆成功.txt', 'a')\n",
    "        fh.write(account+\"----\"+password+\"\\n\")\n",
    "        fh.close()\n",
    "    elif logindatadict.get('errno')==78000 and count<3:\n",
    "        print(\"登陆失败,验证码错误，尝试第\"+str(count+1)+\"次\")\n",
    "        writeLog(\"登陆失败,验证码错误，尝试第\"+str(count+1)+\"次\")\n",
    "        codeToken, codeResult = getCode(session, rkAccount, rkPassword)\n",
    "        token = getToken(session, account)\n",
    "        login(session, account, password, codeToken, codeResult, token, count)\n",
    "        \n",
    "    else:\n",
    "        print(\"登陆失败\\n错误信息:\"+logindatadict.get('errmsg').encode().decode(\"UTF8\"))\n",
    "        writeLog(\"登陆失败\\n错误信息:\"+logindatadict.get('errmsg').encode().decode(\"UTF8\"))\n",
    "        fh = open('登陆失败.txt', 'a')\n",
    "        fh.write(account+\"----\"+password+\"----错误信息:\"+logindatadict.get('errmsg').encode().decode(\"UTF8\")+\"\\n\")\n",
    "        fh.close()\n",
    "    return session"
   ]
  },
  {
   "cell_type": "code",
   "execution_count": null,
   "metadata": {
    "collapsed": true
   },
   "outputs": [],
   "source": [
    "# 领取鱼币\n",
    "def getGold(session, ID):\n",
    "    headers = {'Accept' : '*/*',\n",
    "               'Accept-Language' : 'zh-CN,zh;q=0.8',\n",
    "               'Connection': 'keep-alive',\n",
    "               'Host': 'api.blockcat.360.cn',\n",
    "               'Referer': 'http://blockcat.360.cn/',\n",
    "               'User-Agent': 'Mozilla/5.0 (Linux; U; Android 4.4.4; en-US; XT1022 Build/KXC21.5-40) AppleWebKit/534.30 (KHTML, like Gecko) Version/4.0 UCBrowser/10.7.0.636 U3/0.8.0 Mobile Safari/534.30;360appstore'}\n",
    "    data = {'id': ID, '__did': '', '__src': '', 'callback': 'helpers.JsonpReq.completeCall.call_1'}\n",
    "    redata = session.get('https://api.blockcat.360.cn/kitty/cat/clear?id='+str(ID)+'&__did=&__src=&callback=helpers.JsonpReq.completeCall.call_1', data=data, headers=headers).content.decode(encoding='UTF8')\n",
    "    datadict = json.loads(re.findall(r\"\\((.*)\\)\", redata)[0])\n",
    "    if datadict.get('errno')==0:\n",
    "        print(\"ID:\"+str(ID)+\" 领取鱼币成功！\")\n",
    "        writeLog(\"ID:\"+str(ID)+\" 领取鱼币成功！\")\n",
    "    else:\n",
    "        print(\"ID:\"+str(ID)+\" 领取鱼币失败\")\n",
    "        writeLog(\"ID:\"+str(ID)+\" 领取鱼币失败\")"
   ]
  },
  {
   "cell_type": "code",
   "execution_count": null,
   "metadata": {
    "collapsed": true
   },
   "outputs": [],
   "source": [
    "# 扫描账号是否有鱼币可领取\n",
    "def getData(account, password, session):\n",
    "    code=0\n",
    "    headers = {'Accept' : '*/*',\n",
    "               'Accept-Language' : 'zh-CN,zh;q=0.8',\n",
    "               'Connection': 'keep-alive',\n",
    "               'Host': 'api.blockcat.360.cn',\n",
    "               'Referer': 'http://blockcat.360.cn/',\n",
    "               'User-Agent': 'Mozilla/5.0 (Linux; U; Android 4.4.4; en-US; XT1022 Build/KXC21.5-40) AppleWebKit/534.30 (KHTML, like Gecko) Version/4.0 UCBrowser/10.7.0.636 U3/0.8.0 Mobile Safari/534.30;360appstore'}\n",
    "    data = {'__did': '', '__src': '', 'callback': 'helpers.JsonpReq.completeCall.call_1'}\n",
    "    redata = session.get('https://api.blockcat.360.cn/kitty/cat/events?__did=&__src=&callback=helpers.JsonpReq.completeCall.call_1', data=data, headers=headers).content.decode(encoding='UTF8')\n",
    "    datadict = json.loads(re.findall(r\"\\((.*)\\)\", redata)[0])\n",
    "    if datadict.get('errno')==0:\n",
    "        if type(datadict.get('data')) is dict:\n",
    "            catList = []\n",
    "            for i in ['e1', 'e2', 'e3']:\n",
    "                catDict = datadict.get('data').get(i)\n",
    "                if catDict:\n",
    "                    for i in catDict:\n",
    "                        getGold(session, i)\n",
    "        else:\n",
    "            print(\"暂无鱼币可领取\")\n",
    "            writeLog(\"暂无鱼币可领取\")\n",
    "            fh = open('领取失败.txt', 'a')\n",
    "            fh.write(account+\"----\"+password+\"----暂无鱼币可领取\\n\")\n",
    "            fh.close()\n",
    "    else:\n",
    "        code=1\n",
    "        print(\"领取错误\")\n",
    "        writeLog(\"领取错误\")\n",
    "        fh = open('领取失败.txt', 'a')\n",
    "        fh.write(account+\"----\"+password+\"----领取错误\\n\")\n",
    "        fh.close()\n",
    "    return code"
   ]
  },
  {
   "cell_type": "code",
   "execution_count": null,
   "metadata": {
    "collapsed": true
   },
   "outputs": [],
   "source": [
    "def mainControl(account, password):\n",
    "    print(\"-----------------正在执行账号\"+str(account)+\"-----------------\\nTime:\"+\n",
    "          str(time.strftime('%Y-%m-%d %H:%M:%S',time.localtime())))\n",
    "    writeLog(\"-----------------正在执行账号\"+str(account)+\"-----------------\\nTime:\"+\n",
    "          str(time.strftime('%Y-%m-%d %H:%M:%S',time.localtime())))\n",
    "    with requests.session() as session:\n",
    "        codeToken, codeResult = getCode(session, rkAccount, rkPassword)\n",
    "        token = getToken(session, account)\n",
    "        session = login(session, account, password, codeToken, codeResult, token, count=0)\n",
    "        getData(account, password, session)"
   ]
  },
  {
   "cell_type": "code",
   "execution_count": null,
   "metadata": {
    "collapsed": true,
    "scrolled": false
   },
   "outputs": [],
   "source": [
    "if __name__ == \"__main__\":\n",
    "    #若快打码配置\n",
    "    rkAccount = input(\"请输入若快账号：\")\n",
    "    rkPassword = input(\"密码：\")\n",
    "    auto = input(\"是否自动循环领取鱼币（是请输入0，否请输入1）：\")\n",
    "    accountList = []\n",
    "    fh = open('区块猫账号.txt','r')\n",
    "    for line in fh.readlines():\n",
    "        linestr = line.strip()\n",
    "        listlinestr = linestr.split('----')\n",
    "        accountList.append(listlinestr)\n",
    "    fh.close()\n",
    "    if auto=='0':\n",
    "        delayTime = input(\"请输入每轮循环延迟时间，单位为秒：\")\n",
    "        print(\"进入循环领取模式\")\n",
    "        roundtime=0\n",
    "        while(1):\n",
    "            roundtime+=1\n",
    "            print(\"\\n\\n         第\"+str(roundtime)+\"轮循环\\n\")\n",
    "            writeLog(\"\\n\\n         第\"+str(roundtime)+\"轮循环\\n\")\n",
    "            for i in accountList:\n",
    "                account = i[0]\n",
    "                password = i[1]\n",
    "                mainControl(account, password)\n",
    "            timeCount = 0\n",
    "            while(timeCount<int(delayTime)):\n",
    "                time.sleep(5)\n",
    "                timeCount+=5\n",
    "    else:\n",
    "        for i in accountList:\n",
    "                account = i[0]\n",
    "                password = i[1]\n",
    "                mainControl(account, password)"
   ]
  }
 ],
 "metadata": {
  "kernelspec": {
   "display_name": "Python 3",
   "language": "python",
   "name": "python3"
  },
  "language_info": {
   "codemirror_mode": {
    "name": "ipython",
    "version": 3
   },
   "file_extension": ".py",
   "mimetype": "text/x-python",
   "name": "python",
   "nbconvert_exporter": "python",
   "pygments_lexer": "ipython3",
   "version": "3.6.1"
  }
 },
 "nbformat": 4,
 "nbformat_minor": 2
}
